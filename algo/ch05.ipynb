{
 "cells": [
  {
   "cell_type": "markdown",
   "metadata": {},
   "source": [
    "データの探索\n",
    "===\n",
    "\n",
    "大量のデータの中から目的の値を見つけるには？\n",
    "\n",
    "### Pythonにおけるデータの探索"
   ]
  },
  {
   "cell_type": "code",
   "execution_count": 1,
   "metadata": {
    "pycharm": {
     "name": "#%%\n"
    }
   },
   "outputs": [
    {
     "data": {
      "text/plain": [
       "[79, 32, 94, 45, 88, 94, 83, 67, 3, 59, 99, 31, 83, 6, 20]"
      ]
     },
     "execution_count": 1,
     "metadata": {},
     "output_type": "execute_result"
    }
   ],
   "source": [
    "import random\n",
    "# ランダムなリストを生成\n",
    "random.seed(5)\n",
    "my_array = [random.randint(0, 100) for i in range(15)]\n",
    "my_array"
   ]
  },
  {
   "cell_type": "code",
   "execution_count": 2,
   "metadata": {
    "pycharm": {
     "name": "#%%\n"
    }
   },
   "outputs": [
    {
     "name": "stdout",
     "output_type": "stream",
     "text": [
      "True\n",
      "False\n",
      "1\n"
     ]
    }
   ],
   "source": [
    "# in 演算子を用いることで見つける\n",
    "print(32 in my_array)\n",
    "print(50 in my_array)\n",
    "print(my_array.index(32))"
   ]
  },
  {
   "cell_type": "markdown",
   "metadata": {
    "pycharm": {
     "name": "#%% md\n"
    }
   },
   "source": [
    "### 線形探索\n",
    "先頭から順番に探していく。"
   ]
  },
  {
   "cell_type": "code",
   "execution_count": 3,
   "metadata": {
    "pycharm": {
     "name": "#%%\n"
    }
   },
   "outputs": [
    {
     "name": "stdout",
     "output_type": "stream",
     "text": [
      "True\n",
      "False\n"
     ]
    }
   ],
   "source": [
    "def linear_search(array, target):\n",
    "    for v in array:\n",
    "        if target == v:\n",
    "            return True\n",
    "    return False\n",
    "\n",
    "print(linear_search(my_array, 32))\n",
    "\n",
    "print(linear_search(my_array, 50))\n"
   ]
  },
  {
   "cell_type": "markdown",
   "metadata": {
    "pycharm": {
     "name": "#%% md\n"
    }
   },
   "source": [
    "データの数を$n$とすると、平均的には $\\mathcal{O}(\\frac{n}{2})$ の比較が考えられる。\n",
    "当然最悪の場合は $\\mathcal{O}(n)$ の計算量となる。\n",
    "\n",
    "僕がプログラムを書く場合は、たいていこのパターン。\n",
    "\n",
    "### 二分探索\n",
    "配列がソートされているならば、もっと早く見つけることができる。\n",
    "\n",
    "二分探索$O(\\log n)$ < 線形探索$O(n)$\n"
   ]
  },
  {
   "cell_type": "code",
   "execution_count": 4,
   "metadata": {
    "pycharm": {
     "name": "#%%\n"
    }
   },
   "outputs": [
    {
     "name": "stdout",
     "output_type": "stream",
     "text": [
      "5\n"
     ]
    }
   ],
   "source": [
    "import bisect\n",
    "my_array.sort()\n",
    "print(bisect.bisect(my_array, 32))"
   ]
  },
  {
   "cell_type": "code",
   "execution_count": 5,
   "metadata": {
    "pycharm": {
     "name": "#%%\n"
    }
   },
   "outputs": [],
   "source": [
    "def my_bisect_right(a, x, lo=0, hi=None):\n",
    "    if lo < 0:\n",
    "        raise ValueError('lo must be non-negative')\n",
    "    if hi is None:\n",
    "        hi = len(a)\n",
    "    while lo < hi:\n",
    "        mid = (lo+hi)//2\n",
    "        if x < a[mid]: hi = mid\n",
    "        else: lo = mid+1\n",
    "    return lo\n"
   ]
  },
  {
   "cell_type": "markdown",
   "metadata": {
    "pycharm": {
     "name": "#%% md\n"
    }
   },
   "source": [
    "データが見つかればOKだが、見つからないケースもある。\n",
    "見つからない場合は最後の到達点がそのデータの挿入ポイントでもある。\n",
    "\n",
    "２分探索は配列がソートされている前提の探索方法であり、データを挿入すると中身が変わる。\n",
    "探索自体は$\\mathcal{O}(\\log n)$でできるが、挿入には$\\mathcal{O}(n)$の計算量がかかり、実質的に$\\mathcal{O}(n \\log n)$の計算量となる。\n",
    "\n",
    "挿入時も$\\mathcal{O}(\\log n)$の計算量で済むデータ構造が欲しい。\n",
    "\n",
    "## 探索のためのデータ構造\n",
    "\n",
    "データを一直線に並んだ配列ではなく木構造で保持すると、探索と挿入に柔軟に対応できる。\n",
    "\n",
    "### 用語\n",
    "\n",
    "**木**(tree)は、**ノード**(node)と**枝**(branch)からなる。\n",
    "もっとも上位にあるノードは**根**(root)と呼ばれる。\n",
    "個ノードを持たないノードはもっとも下位に位置することになり、これを**葉**(leaf)という。\n",
    "\n",
    "根からあるノードまでの距離を**深さ**(depth)と言う。\n",
    "根からもっとも遠い葉までの距離を木の**高さ**(height)という。\n",
    "\n",
    "あるノードにはいくつのこのノードがあっても木構造上問題ないが、2つまでとしている場合を**二分木**(binary tree)と呼ぶ。\n",
    "さらに、二分木のうち高さがどれも同じになっているものを**完全二分木**(complete binary tree)という。\n",
    "\n",
    "二分木の中でも、ノードの親子関係と値の大小関係があり、全てのノードがこの関係を満たしている二分木を**二分探索木**(binary search tree)という。\n",
    "\n"
   ]
  },
  {
   "cell_type": "code",
   "execution_count": 6,
   "metadata": {
    "pycharm": {
     "name": "#%%\n"
    }
   },
   "outputs": [],
   "source": [
    "class Node:\n",
    "\n",
    "    def __init__(self, value):\n",
    "        self.value = value\n",
    "        self.left = None\n",
    "        self.right = None\n",
    "\n",
    "    def __str__(self):\n",
    "        # Nodeクラスのインスタンスを文字列表現にする\n",
    "        left = f'[{self.left.value}]' if self.left else '[]'\n",
    "        right = f'[{self.right.value}]' if self.right else '[]'\n",
    "        return f'{left} <- {self.value} -> {right}'\n",
    "\n",
    "\n",
    "class BinarySearchTree:\n",
    "    def __init__(self):\n",
    "        self.nodes = []\n",
    "\n",
    "    def add_node(self,value):\n",
    "        node = Node(value)\n",
    "        if self.nodes:\n",
    "            parent, direction = self.find_parent(value)\n",
    "            if direction == 'left':\n",
    "                parent.left = node\n",
    "            else:\n",
    "                parent.right = node\n",
    "        self.nodes.append(node)\n",
    "\n",
    "    def find_parent(self, value):\n",
    "        node = self.nodes[0]\n",
    "        # node が None になるまでループを回す\n",
    "        while node:\n",
    "            p = node # 戻り値の候補(親かもしれない)として取っておく\n",
    "            if p.value == value:\n",
    "                raise ValueError('すでにある値と同じ値を格納することはできません')\n",
    "            if p.value > value:\n",
    "                direction = 'left'\n",
    "                node = p.left\n",
    "            else:\n",
    "                direction = 'right'\n",
    "                node = p.right\n",
    "        return p, direction"
   ]
  },
  {
   "cell_type": "code",
   "execution_count": 7,
   "metadata": {
    "pycharm": {
     "name": "#%%\n"
    }
   },
   "outputs": [
    {
     "name": "stdout",
     "output_type": "stream",
     "text": [
      "[4] <- 10 -> [20]\n",
      "[12] <- 20 -> [30]\n",
      "[] <- 12 -> []\n",
      "[3] <- 4 -> [9]\n",
      "[] <- 3 -> []\n",
      "[] <- 9 -> []\n",
      "[] <- 30 -> []\n"
     ]
    }
   ],
   "source": [
    "btree = BinarySearchTree()\n",
    "for v in [10, 20, 12, 4, 3, 9, 30]:\n",
    "    btree.add_node(v)\n",
    "\n",
    "for node in btree.nodes:\n",
    "    print(node)"
   ]
  },
  {
   "cell_type": "code",
   "execution_count": 8,
   "metadata": {
    "pycharm": {
     "name": "#%%\n"
    }
   },
   "outputs": [
    {
     "name": "stdout",
     "output_type": "stream",
     "text": [
      "[] <- 3 -> [4]\n",
      "[] <- 4 -> [9]\n",
      "[] <- 9 -> [10]\n",
      "[] <- 10 -> [12]\n",
      "[] <- 12 -> [20]\n",
      "[] <- 20 -> [30]\n",
      "[] <- 30 -> []\n"
     ]
    }
   ],
   "source": [
    "# この例だと、バランスの偏りが極端であるため配列を走査するのと同じ計算量となってしまう\n",
    "btree = BinarySearchTree()\n",
    "for v in sorted([10, 20, 12, 3, 4, 9, 30]):\n",
    "    btree.add_node(v)\n",
    "\n",
    "for node in btree.nodes:\n",
    "    print(node)\n"
   ]
  },
  {
   "cell_type": "markdown",
   "metadata": {
    "pycharm": {
     "name": "#%% md\n"
    }
   },
   "source": [
    "### 木のバランスが大事\n",
    "２分探索木を使ってデータの探索や挿入で、$O(log n)$の計算量になるのは、２分探索木の左右のバランスが取れている場合に限る。\n",
    "一般に左右バランスが取れている木を**平衡木**(balanced tree)と言う。\n",
    "\n"
   ]
  },
  {
   "cell_type": "markdown",
   "metadata": {
    "pycharm": {
     "name": "#%% md\n"
    }
   },
   "source": [
    "### ヒープ構造\n",
    "データの最小値を取り出したい時に便利なデータ構造。\n",
    "データが昇順にソードされた配列を考えると、先頭から順番に取ってくればそれは最小値である。\n",
    "しかし、取り出しもにではなく、挿入も考えると挿入点を探す必要がある。\n",
    "ソートされていることを考えると二分探索を行うことができ、挿入点の探索は計算量は$\\mathcal{O}(\\log n)$で良いが、挿入するすることを考えると$\\mathcal{O}(n)$となる。\n",
    "\n",
    "常に最小値だけわかれば良い場合、「先頭は最小値」であることだけを補償し、他はソートされている必要がないため計算量を削減できる。\n",
    "\n",
    "#### ヒープの更新\n",
    "\n",
    "最小値の取り出しは、ルートを取り出せば良いだけであるため、$\\mathcal{O}(1)$となる。\n",
    "その後、木構造の修復に時間がかかる。\n",
    "しかし、ヒープは完全二分木であるため、頂点の数を$n$とした時、深さは$\\log(n)$程度となる。\n",
    "大小関係の矛盾を解決するためのステップが、根から葉まで到達すればよいので、$\\mathcal{O}(\\log n)$となる。\n",
    "\n",
    "#### ヒープソート\n",
    "\n",
    "ヒープは常に最小値を教えてくれるため、これを用いて配列をソートすることができる。\n",
    "\n",
    "\n"
   ]
  },
  {
   "cell_type": "code",
   "execution_count": 9,
   "metadata": {
    "pycharm": {
     "name": "#%%\n"
    }
   },
   "outputs": [],
   "source": [
    "import heapq\n",
    "\n",
    "# ヒープソート\n",
    "def heap_sort(array):\n",
    "    heap = []\n",
    "    for v in array:\n",
    "        heapq.heappush(heap, v)\n",
    "    return [heapq.heappop(heap) for _ in range(len(heap))]"
   ]
  },
  {
   "cell_type": "code",
   "execution_count": 10,
   "metadata": {
    "pycharm": {
     "name": "#%%\n"
    }
   },
   "outputs": [
    {
     "name": "stdout",
     "output_type": "stream",
     "text": [
      "[14, 47, 60, 31, 48, 69, 13, 73, 31, 1, 93, 27, 52, 35, 23]\n",
      "[1, 13, 14, 23, 27, 31, 31, 35, 47, 48, 52, 60, 69, 73, 93]\n"
     ]
    }
   ],
   "source": [
    "my_array = [random.randint(0, 100) for i in range(15)]\n",
    "print(my_array)\n",
    "print(heap_sort(my_array))"
   ]
  },
  {
   "cell_type": "markdown",
   "metadata": {
    "pycharm": {
     "name": "#%% md\n"
    }
   },
   "source": [
    "計算量は、入力サイズを$n$としたき、ヒープ作成とその後にヒープ利用の合計となる。\n",
    "ヒープの作成は$\\mathcal{O}(n)$でできる。\n",
    "各ステップではヒープから値を取り出すため、ヒープの更新が必要となる。これは、$\\mathcal{O}(\\log n)$の計算量。\n",
    "要素が$n$個あるため、$\\mathcal{O}(n \\log n)$となる。\n",
    "ヒープ作成の$\\mathcal{O}(n)$よりも大きいため、ヒープソートの計算量は$\\mathcal{O}(n \\log n)$となる。\n",
    "\n",
    "マージソートやクイックソートと同じ計算量となる。\n",
    "\n",
    "## ハッシュを使った探索\n",
    "### Pythonの辞書型\n",
    "\n",
    "\n",
    "データのハッシュ値を、データの探索に利用するのが**ハッシュテーブル**である。\n",
    "ハッシュテーブルの探索にかかる計算量は、データのサイズによらず$\\mathcal{O}(1)$の定数時間となる\n",
    "\n",
    "> どんなに大きな整数値がきても、それを一定の範囲に収まるように変換する方法はあるか？\n",
    "\n",
    "\n"
   ]
  },
  {
   "cell_type": "code",
   "execution_count": 11,
   "metadata": {
    "pycharm": {
     "name": "#%%\n"
    }
   },
   "outputs": [
    {
     "data": {
      "text/plain": [
       "(3, 1)"
      ]
     },
     "execution_count": 11,
     "metadata": {},
     "output_type": "execute_result"
    }
   ],
   "source": [
    "divmod(301, 100)\n"
   ]
  },
  {
   "cell_type": "code",
   "execution_count": 12,
   "metadata": {
    "pycharm": {
     "name": "#%%\n"
    }
   },
   "outputs": [
    {
     "data": {
      "text/plain": [
       "(-10, 1)"
      ]
     },
     "execution_count": 12,
     "metadata": {},
     "output_type": "execute_result"
    }
   ],
   "source": [
    "divmod(-999, 100)"
   ]
  },
  {
   "cell_type": "code",
   "execution_count": 13,
   "metadata": {
    "pycharm": {
     "name": "#%%\n"
    }
   },
   "outputs": [],
   "source": [
    "class HashTable:\n",
    "\n",
    "    def __init__(self, table_size=100):\n",
    "        self.data = [[] for i in range(table_size)]\n",
    "        self.n = table_size\n",
    "\n",
    "    def get_hash(self, v):\n",
    "        \"\"\"オブジェクトのハッシュ値を計算する\"\"\"\n",
    "        return hash(v) % self.n\n",
    "\n",
    "    def search(self, key):\n",
    "        i = self.get_hash(key)\n",
    "        for j, v in enumerate(self.data[i]):\n",
    "            if v[0] == key:\n",
    "                return (i, j)\n",
    "        return (i, -1)\n",
    "\n",
    "    def set(self, key, value):\n",
    "        i, j = self.search(key)\n",
    "        if j != -1:\n",
    "            self.data[i][j][1] = value\n",
    "        else:\n",
    "            self.data[i].append([key, value])\n",
    "\n",
    "    def get(self, key):\n",
    "        i, j = self.search(key)\n",
    "        if j != -1:\n",
    "            return self.data[i][j][1]\n",
    "        raise KeyError(f'{key} was not found in this HashTable!')"
   ]
  },
  {
   "cell_type": "code",
   "execution_count": 14,
   "metadata": {
    "pycharm": {
     "name": "#%%\n"
    }
   },
   "outputs": [
    {
     "data": {
      "text/plain": [
       "10"
      ]
     },
     "execution_count": 14,
     "metadata": {},
     "output_type": "execute_result"
    }
   ],
   "source": [
    "my_hash_table = HashTable()\n",
    "my_hash_table.set('taro',10)\n",
    "my_hash_table.get('taro')"
   ]
  },
  {
   "cell_type": "code",
   "execution_count": null,
   "metadata": {
    "pycharm": {
     "name": "#%%\n"
    }
   },
   "outputs": [],
   "source": []
  },
  {
   "cell_type": "code",
   "execution_count": 14,
   "metadata": {
    "pycharm": {
     "name": "#%%\n"
    }
   },
   "outputs": [],
   "source": []
  },
  {
   "cell_type": "code",
   "execution_count": 14,
   "metadata": {},
   "outputs": [],
   "source": []
  }
 ],
 "metadata": {
  "kernelspec": {
   "display_name": "Python 3",
   "language": "python",
   "name": "python3"
  },
  "language_info": {
   "codemirror_mode": {
    "name": "ipython",
    "version": 3
   },
   "file_extension": ".py",
   "mimetype": "text/x-python",
   "name": "python",
   "nbconvert_exporter": "python",
   "pygments_lexer": "ipython3",
   "version": "3.9.0"
  }
 },
 "nbformat": 4,
 "nbformat_minor": 1
}
