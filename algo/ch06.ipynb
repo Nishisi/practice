{
 "cells": [
  {
   "cell_type": "markdown",
   "metadata": {
    "collapsed": true,
    "pycharm": {
     "name": "#%% md\n"
    }
   },
   "source": [
    "グラフ理論\n",
    "===\n",
    "## グラフの表現方法\n",
    "\n",
    "複数の要素とそれらの関係性を表現する方法として、**グラフ**(**ネットワーク**)がある\n",
    "\n",
    "\n",
    "### グラフの基礎\n",
    "\n",
    "グラフは**頂点**(vertex)と **辺**(edge)から構成される。\n",
    "\n",
    "頂点は**節点** ( **ノード** , node)、辺は**孤**(arc)、**リンク** (link)、**枝** (branch)などと呼ばれることもある\n",
    "\n",
    "ある2つの頂点が1つの辺でつながる時、これらの頂点は**隣接**(adjacent)しているという。\n",
    "ある辺の両端の頂点は**端点**(endpoint)tお言う。\n",
    "ある頂点に関して、その頂点と隣接する頂点がいくつかあるか、つまり何本の辺が出ているかは、**次数**(degree)と呼ばれる。\n",
    "\n",
    "ある2つの頂点を結び辺の集合を**道**(path)という。\n",
    "すべての頂点の間に道があるグラフを**連結グラフ**(connected graph)と言う。\n",
    "\n",
    "すべての頂点がペアになっていて、それらを結び道がただ1つしかないグラフが**木**(tree)である。\n",
    "木には**閉路**(cycle)がない\n",
    "また、いくつかの木で構成されえるグラフを**森**(forest)という。\n",
    "\n",
    "辺に向きがあるグラフを**有向グラフ**(directed graph)、辺に向きがないグラフを**無向グラフ**(undirected graph)という。\n",
    "\n",
    "### グラフを表現するデータ構造\n",
    "代表的なデータ構造としては、**隣接行列**(adjacency matrix)と**隣接リスト**(adjacency list)がある。\n",
    "\n",
    "隣接行列は、正方行列で、サイズはグラフの含まれる頂点の数となる。\n",
    "行列のi行とj列の要素は、頂点iとjの間に辺があれば1、それ以外なら0となる。\n",
    "\n",
    "無向グラフの場合、自分自身のつながる辺を考えないため、隣接行列の対角成分はすべて0となる。(対称行列)\n",
    "\n",
    "隣接リスト(adjacency list)は、それぞれの頂点からみて、隣接する頂点を連結リストなどで保持するデータ構造である。\n",
    "\n",
    "隣接行列はグラフの頂点数 $n$ に対して、必ず $n \\times n$ の行列を用意する必要がある。\n",
    "つまり、隣接リストの方が頂点管理の無駄がない。\n",
    "しかし、表現は隣接行列の方がわかりやすいため隣接行列がおすすめ。\n",
    "\n",
    "\n",
    "\n",
    "\n"
   ]
  },
  {
   "cell_type": "code",
   "execution_count": 1,
   "metadata": {
    "pycharm": {
     "name": "#%%\n"
    }
   },
   "outputs": [],
   "source": [
    "import networkx as nx\n",
    "graph = nx.Graph()\n",
    "graph.add_edge(5,6)\n",
    "graph.add_edge(6,7)"
   ]
  },
  {
   "cell_type": "code",
   "execution_count": 2,
   "metadata": {
    "pycharm": {
     "name": "#%%\n"
    }
   },
   "outputs": [
    {
     "ename": "ModuleNotFoundError",
     "evalue": "No module named 'matplotlib'",
     "output_type": "error",
     "traceback": [
      "\u001b[0;31m---------------------------------------------------------------------------\u001b[0m",
      "\u001b[0;31mModuleNotFoundError\u001b[0m                       Traceback (most recent call last)",
      "\u001b[0;32m<ipython-input-2-c4127f735781>\u001b[0m in \u001b[0;36m<module>\u001b[0;34m\u001b[0m\n\u001b[0;32m----> 1\u001b[0;31m \u001b[0mget_ipython\u001b[0m\u001b[0;34m(\u001b[0m\u001b[0;34m)\u001b[0m\u001b[0;34m.\u001b[0m\u001b[0mrun_line_magic\u001b[0m\u001b[0;34m(\u001b[0m\u001b[0;34m'matplotlib'\u001b[0m\u001b[0;34m,\u001b[0m \u001b[0;34m'inline'\u001b[0m\u001b[0;34m)\u001b[0m\u001b[0;34m\u001b[0m\u001b[0;34m\u001b[0m\u001b[0m\n\u001b[0m\u001b[1;32m      2\u001b[0m \u001b[0mnx\u001b[0m\u001b[0;34m.\u001b[0m\u001b[0mdraw_networkx\u001b[0m\u001b[0;34m(\u001b[0m\u001b[0mgraph\u001b[0m\u001b[0;34m)\u001b[0m\u001b[0;34m\u001b[0m\u001b[0;34m\u001b[0m\u001b[0m\n\u001b[1;32m      3\u001b[0m \u001b[0;34m\u001b[0m\u001b[0m\n",
      "\u001b[0;32m/usr/local/lib/python3.9/site-packages/IPython/core/interactiveshell.py\u001b[0m in \u001b[0;36mrun_line_magic\u001b[0;34m(self, magic_name, line, _stack_depth)\u001b[0m\n\u001b[1;32m   2324\u001b[0m                 \u001b[0mkwargs\u001b[0m\u001b[0;34m[\u001b[0m\u001b[0;34m'local_ns'\u001b[0m\u001b[0;34m]\u001b[0m \u001b[0;34m=\u001b[0m \u001b[0mself\u001b[0m\u001b[0;34m.\u001b[0m\u001b[0mget_local_scope\u001b[0m\u001b[0;34m(\u001b[0m\u001b[0mstack_depth\u001b[0m\u001b[0;34m)\u001b[0m\u001b[0;34m\u001b[0m\u001b[0;34m\u001b[0m\u001b[0m\n\u001b[1;32m   2325\u001b[0m             \u001b[0;32mwith\u001b[0m \u001b[0mself\u001b[0m\u001b[0;34m.\u001b[0m\u001b[0mbuiltin_trap\u001b[0m\u001b[0;34m:\u001b[0m\u001b[0;34m\u001b[0m\u001b[0;34m\u001b[0m\u001b[0m\n\u001b[0;32m-> 2326\u001b[0;31m                 \u001b[0mresult\u001b[0m \u001b[0;34m=\u001b[0m \u001b[0mfn\u001b[0m\u001b[0;34m(\u001b[0m\u001b[0;34m*\u001b[0m\u001b[0margs\u001b[0m\u001b[0;34m,\u001b[0m \u001b[0;34m**\u001b[0m\u001b[0mkwargs\u001b[0m\u001b[0;34m)\u001b[0m\u001b[0;34m\u001b[0m\u001b[0;34m\u001b[0m\u001b[0m\n\u001b[0m\u001b[1;32m   2327\u001b[0m             \u001b[0;32mreturn\u001b[0m \u001b[0mresult\u001b[0m\u001b[0;34m\u001b[0m\u001b[0;34m\u001b[0m\u001b[0m\n\u001b[1;32m   2328\u001b[0m \u001b[0;34m\u001b[0m\u001b[0m\n",
      "\u001b[0;32m<decorator-gen-101>\u001b[0m in \u001b[0;36mmatplotlib\u001b[0;34m(self, line)\u001b[0m\n",
      "\u001b[0;32m/usr/local/lib/python3.9/site-packages/IPython/core/magic.py\u001b[0m in \u001b[0;36m<lambda>\u001b[0;34m(f, *a, **k)\u001b[0m\n\u001b[1;32m    185\u001b[0m     \u001b[0;31m# but it's overkill for just that one bit of state.\u001b[0m\u001b[0;34m\u001b[0m\u001b[0;34m\u001b[0m\u001b[0;34m\u001b[0m\u001b[0m\n\u001b[1;32m    186\u001b[0m     \u001b[0;32mdef\u001b[0m \u001b[0mmagic_deco\u001b[0m\u001b[0;34m(\u001b[0m\u001b[0marg\u001b[0m\u001b[0;34m)\u001b[0m\u001b[0;34m:\u001b[0m\u001b[0;34m\u001b[0m\u001b[0;34m\u001b[0m\u001b[0m\n\u001b[0;32m--> 187\u001b[0;31m         \u001b[0mcall\u001b[0m \u001b[0;34m=\u001b[0m \u001b[0;32mlambda\u001b[0m \u001b[0mf\u001b[0m\u001b[0;34m,\u001b[0m \u001b[0;34m*\u001b[0m\u001b[0ma\u001b[0m\u001b[0;34m,\u001b[0m \u001b[0;34m**\u001b[0m\u001b[0mk\u001b[0m\u001b[0;34m:\u001b[0m \u001b[0mf\u001b[0m\u001b[0;34m(\u001b[0m\u001b[0;34m*\u001b[0m\u001b[0ma\u001b[0m\u001b[0;34m,\u001b[0m \u001b[0;34m**\u001b[0m\u001b[0mk\u001b[0m\u001b[0;34m)\u001b[0m\u001b[0;34m\u001b[0m\u001b[0;34m\u001b[0m\u001b[0m\n\u001b[0m\u001b[1;32m    188\u001b[0m \u001b[0;34m\u001b[0m\u001b[0m\n\u001b[1;32m    189\u001b[0m         \u001b[0;32mif\u001b[0m \u001b[0mcallable\u001b[0m\u001b[0;34m(\u001b[0m\u001b[0marg\u001b[0m\u001b[0;34m)\u001b[0m\u001b[0;34m:\u001b[0m\u001b[0;34m\u001b[0m\u001b[0;34m\u001b[0m\u001b[0m\n",
      "\u001b[0;32m/usr/local/lib/python3.9/site-packages/IPython/core/magics/pylab.py\u001b[0m in \u001b[0;36mmatplotlib\u001b[0;34m(self, line)\u001b[0m\n\u001b[1;32m     97\u001b[0m             \u001b[0mprint\u001b[0m\u001b[0;34m(\u001b[0m\u001b[0;34m\"Available matplotlib backends: %s\"\u001b[0m \u001b[0;34m%\u001b[0m \u001b[0mbackends_list\u001b[0m\u001b[0;34m)\u001b[0m\u001b[0;34m\u001b[0m\u001b[0;34m\u001b[0m\u001b[0m\n\u001b[1;32m     98\u001b[0m         \u001b[0;32melse\u001b[0m\u001b[0;34m:\u001b[0m\u001b[0;34m\u001b[0m\u001b[0;34m\u001b[0m\u001b[0m\n\u001b[0;32m---> 99\u001b[0;31m             \u001b[0mgui\u001b[0m\u001b[0;34m,\u001b[0m \u001b[0mbackend\u001b[0m \u001b[0;34m=\u001b[0m \u001b[0mself\u001b[0m\u001b[0;34m.\u001b[0m\u001b[0mshell\u001b[0m\u001b[0;34m.\u001b[0m\u001b[0menable_matplotlib\u001b[0m\u001b[0;34m(\u001b[0m\u001b[0margs\u001b[0m\u001b[0;34m.\u001b[0m\u001b[0mgui\u001b[0m\u001b[0;34m.\u001b[0m\u001b[0mlower\u001b[0m\u001b[0;34m(\u001b[0m\u001b[0;34m)\u001b[0m \u001b[0;32mif\u001b[0m \u001b[0misinstance\u001b[0m\u001b[0;34m(\u001b[0m\u001b[0margs\u001b[0m\u001b[0;34m.\u001b[0m\u001b[0mgui\u001b[0m\u001b[0;34m,\u001b[0m \u001b[0mstr\u001b[0m\u001b[0;34m)\u001b[0m \u001b[0;32melse\u001b[0m \u001b[0margs\u001b[0m\u001b[0;34m.\u001b[0m\u001b[0mgui\u001b[0m\u001b[0;34m)\u001b[0m\u001b[0;34m\u001b[0m\u001b[0;34m\u001b[0m\u001b[0m\n\u001b[0m\u001b[1;32m    100\u001b[0m             \u001b[0mself\u001b[0m\u001b[0;34m.\u001b[0m\u001b[0m_show_matplotlib_backend\u001b[0m\u001b[0;34m(\u001b[0m\u001b[0margs\u001b[0m\u001b[0;34m.\u001b[0m\u001b[0mgui\u001b[0m\u001b[0;34m,\u001b[0m \u001b[0mbackend\u001b[0m\u001b[0;34m)\u001b[0m\u001b[0;34m\u001b[0m\u001b[0;34m\u001b[0m\u001b[0m\n\u001b[1;32m    101\u001b[0m \u001b[0;34m\u001b[0m\u001b[0m\n",
      "\u001b[0;32m/usr/local/lib/python3.9/site-packages/IPython/core/interactiveshell.py\u001b[0m in \u001b[0;36menable_matplotlib\u001b[0;34m(self, gui)\u001b[0m\n\u001b[1;32m   3491\u001b[0m         \"\"\"\n\u001b[1;32m   3492\u001b[0m         \u001b[0;32mfrom\u001b[0m \u001b[0mIPython\u001b[0m\u001b[0;34m.\u001b[0m\u001b[0mcore\u001b[0m \u001b[0;32mimport\u001b[0m \u001b[0mpylabtools\u001b[0m \u001b[0;32mas\u001b[0m \u001b[0mpt\u001b[0m\u001b[0;34m\u001b[0m\u001b[0;34m\u001b[0m\u001b[0m\n\u001b[0;32m-> 3493\u001b[0;31m         \u001b[0mgui\u001b[0m\u001b[0;34m,\u001b[0m \u001b[0mbackend\u001b[0m \u001b[0;34m=\u001b[0m \u001b[0mpt\u001b[0m\u001b[0;34m.\u001b[0m\u001b[0mfind_gui_and_backend\u001b[0m\u001b[0;34m(\u001b[0m\u001b[0mgui\u001b[0m\u001b[0;34m,\u001b[0m \u001b[0mself\u001b[0m\u001b[0;34m.\u001b[0m\u001b[0mpylab_gui_select\u001b[0m\u001b[0;34m)\u001b[0m\u001b[0;34m\u001b[0m\u001b[0;34m\u001b[0m\u001b[0m\n\u001b[0m\u001b[1;32m   3494\u001b[0m \u001b[0;34m\u001b[0m\u001b[0m\n\u001b[1;32m   3495\u001b[0m         \u001b[0;32mif\u001b[0m \u001b[0mgui\u001b[0m \u001b[0;34m!=\u001b[0m \u001b[0;34m'inline'\u001b[0m\u001b[0;34m:\u001b[0m\u001b[0;34m\u001b[0m\u001b[0;34m\u001b[0m\u001b[0m\n",
      "\u001b[0;32m/usr/local/lib/python3.9/site-packages/IPython/core/pylabtools.py\u001b[0m in \u001b[0;36mfind_gui_and_backend\u001b[0;34m(gui, gui_select)\u001b[0m\n\u001b[1;32m    278\u001b[0m     \"\"\"\n\u001b[1;32m    279\u001b[0m \u001b[0;34m\u001b[0m\u001b[0m\n\u001b[0;32m--> 280\u001b[0;31m     \u001b[0;32mimport\u001b[0m \u001b[0mmatplotlib\u001b[0m\u001b[0;34m\u001b[0m\u001b[0;34m\u001b[0m\u001b[0m\n\u001b[0m\u001b[1;32m    281\u001b[0m \u001b[0;34m\u001b[0m\u001b[0m\n\u001b[1;32m    282\u001b[0m     \u001b[0;32mif\u001b[0m \u001b[0mgui\u001b[0m \u001b[0;32mand\u001b[0m \u001b[0mgui\u001b[0m \u001b[0;34m!=\u001b[0m \u001b[0;34m'auto'\u001b[0m\u001b[0;34m:\u001b[0m\u001b[0;34m\u001b[0m\u001b[0;34m\u001b[0m\u001b[0m\n",
      "\u001b[0;31mModuleNotFoundError\u001b[0m: No module named 'matplotlib'"
     ]
    }
   ],
   "source": [
    "%matplotlib inline\n",
    "nx.draw_networkx(graph)\n",
    "\n"
   ]
  },
  {
   "cell_type": "markdown",
   "metadata": {
    "pycharm": {
     "name": "#%% md\n"
    }
   },
   "source": [
    "## グラフ探索のアルゴリズム\n",
    "配列の様にデータが一方向に並んでいる場合は、すべての要素を漏れなく処理したいとき、先頭から順番に計算を進めれば良いのでわかりやすい。\n",
    "しかし、グラフはたくさんの枝分かれがあるため、配列の様に単純な方向に処理すれば良いワケではない。\n"
   ]
  },
  {
   "cell_type": "code",
   "execution_count": 3,
   "metadata": {
    "pycharm": {
     "name": "#%%\n"
    }
   },
   "outputs": [],
   "source": [
    "\n",
    "import random\n",
    "\n",
    "def generate_graph(n, m):\n",
    "    \"\"\"n個の頂点とm個の辺を持つグラフを作る\"\"\"\n",
    "    graph_data = [[0] * n for _ in range(n)]\n",
    "    # 同じ辺が同一視されるようにsetを用意\n",
    "    edge_set = set()\n",
    "    while len(edge_set) < m:\n",
    "        i, j = random.sample(range(n), 2)\n",
    "        if i > j: i, j = j ,i\n",
    "        edge_set.add((i,j))\n",
    "        graph_data[i][j] = graph_data[j][i] = 1\n",
    "    return graph_data, edge_set\n"
   ]
  },
  {
   "cell_type": "code",
   "execution_count": 4,
   "metadata": {
    "pycharm": {
     "name": "#%%\n"
    }
   },
   "outputs": [
    {
     "data": {
      "text/plain": [
       "{(0, 2),\n",
       " (0, 4),\n",
       " (0, 8),\n",
       " (1, 9),\n",
       " (2, 5),\n",
       " (2, 7),\n",
       " (2, 13),\n",
       " (3, 12),\n",
       " (3, 15),\n",
       " (5, 11),\n",
       " (5, 13),\n",
       " (6, 8),\n",
       " (6, 11),\n",
       " (6, 13),\n",
       " (7, 8),\n",
       " (7, 11),\n",
       " (8, 10),\n",
       " (12, 13),\n",
       " (12, 15),\n",
       " (13, 14)}"
      ]
     },
     "execution_count": 4,
     "metadata": {},
     "output_type": "execute_result"
    }
   ],
   "source": [
    "random.seed(6)\n",
    "node_num = 16\n",
    "edge_num = 20\n",
    "my_graph, edge_set = generate_graph(node_num, edge_num)\n",
    "edge_set"
   ]
  },
  {
   "cell_type": "code",
   "execution_count": 5,
   "metadata": {
    "pycharm": {
     "name": "#%%\n"
    }
   },
   "outputs": [
    {
     "data": {
      "image/png": "[encoded data removed]",
      "text/plain": [
       "<Figure size 432x288 with 1 Axes>"
      ]
     },
     "metadata": {},
     "output_type": "display_data"
    }
   ],
   "source": [
    "\n",
    "# NetworkXを使ってグラフを描画するコード\n",
    "graph = nx.Graph()\n",
    "for u,v in edge_set:\n",
    "    graph.add_edge(u, v)\n",
    "%matplotlib inline\n",
    "nx.draw_networkx(graph)\n"
   ]
  },
  {
   "cell_type": "code",
   "execution_count": 6,
   "metadata": {
    "pycharm": {
     "name": "#%%\n"
    }
   },
   "outputs": [
    {
     "data": {
      "text/plain": [
       "[[0, 0, 1, 0, 1, 0, 0, 0, 1, 0, 0, 0, 0, 0, 0, 0],\n",
       " [0, 0, 0, 0, 0, 0, 0, 0, 0, 1, 0, 0, 0, 0, 0, 0],\n",
       " [1, 0, 0, 0, 0, 1, 0, 1, 0, 0, 0, 0, 0, 1, 0, 0],\n",
       " [0, 0, 0, 0, 0, 0, 0, 0, 0, 0, 0, 0, 1, 0, 0, 1],\n",
       " [1, 0, 0, 0, 0, 0, 0, 0, 0, 0, 0, 0, 0, 0, 0, 0],\n",
       " [0, 0, 1, 0, 0, 0, 0, 0, 0, 0, 0, 1, 0, 1, 0, 0],\n",
       " [0, 0, 0, 0, 0, 0, 0, 0, 1, 0, 0, 1, 0, 1, 0, 0],\n",
       " [0, 0, 1, 0, 0, 0, 0, 0, 1, 0, 0, 1, 0, 0, 0, 0],\n",
       " [1, 0, 0, 0, 0, 0, 1, 1, 0, 0, 1, 0, 0, 0, 0, 0],\n",
       " [0, 1, 0, 0, 0, 0, 0, 0, 0, 0, 0, 0, 0, 0, 0, 0],\n",
       " [0, 0, 0, 0, 0, 0, 0, 0, 1, 0, 0, 0, 0, 0, 0, 0],\n",
       " [0, 0, 0, 0, 0, 1, 1, 1, 0, 0, 0, 0, 0, 0, 0, 0],\n",
       " [0, 0, 0, 1, 0, 0, 0, 0, 0, 0, 0, 0, 0, 1, 0, 1],\n",
       " [0, 0, 1, 0, 0, 1, 1, 0, 0, 0, 0, 0, 1, 0, 1, 0],\n",
       " [0, 0, 0, 0, 0, 0, 0, 0, 0, 0, 0, 0, 0, 1, 0, 0],\n",
       " [0, 0, 0, 1, 0, 0, 0, 0, 0, 0, 0, 0, 1, 0, 0, 0]]"
      ]
     },
     "execution_count": 6,
     "metadata": {},
     "output_type": "execute_result"
    }
   ],
   "source": [
    "my_graph\n"
   ]
  },
  {
   "cell_type": "markdown",
   "metadata": {
    "pycharm": {
     "name": "#%% md\n"
    }
   },
   "source": [
    "### 連結グラフを探す\n",
    "配列の様に一方向ではないため、どの様に探索するかアルゴリズムが必要。\n",
    "**幅優先探索**(breadth first search)と**深さ優先探索**(depth first search)\n",
    "\n",
    "#### キュー\n",
    "\n",
    "**FIFO** (First-In First-Out)\n",
    "Pythonリストを用いることで実現可能であるが、先頭の要素を取り除く処理に$\\mathcal{O}(n)$の時間がかかる\n",
    "そのため、標準モジュールを使う。"
   ]
  },
  {
   "cell_type": "code",
   "execution_count": 108,
   "metadata": {
    "pycharm": {
     "name": "#%%\n"
    }
   },
   "outputs": [
    {
     "name": "stdout",
     "output_type": "stream",
     "text": [
      "deque([1, 2, 3])\n",
      "1\n",
      "deque([2, 3])\n"
     ]
    }
   ],
   "source": [
    "from collections import deque\n",
    "\n",
    "queue = deque([])\n",
    "queue.append(1)\n",
    "queue.append(2)\n",
    "queue.append(3)\n",
    "print(queue)\n",
    "\n",
    "print(queue.popleft())\n",
    "print(queue)"
   ]
  },
  {
   "cell_type": "markdown",
   "metadata": {
    "pycharm": {
     "name": "#%% md\n"
    }
   },
   "source": [
    "#### グラフの幅優先探索\n",
    "```\n",
    "Input:スタートの頂点(v)、グラフを表現する隣接行列\n",
    "Output:頂点vから到達できるすべての頂点\n",
    "Procedure:\n",
    "1. 作業用のキュー(Q)と到達した頂点を保存するための set (S) を用意し、それぞれにvを追加する\n",
    "2. キューから頂点を取り出す\n",
    "3. 取り出した頂点の隣にある全ての頂点に対して以下の処理を行う\n",
    "   Sに入っていなければ、QとSの両方へ追加する\n",
    "4. Qが空ならSを出力して終了、そうでなければ、手続き2へ移動\n",
    "```\n"
   ]
  },
  {
   "cell_type": "code",
   "execution_count": 109,
   "metadata": {
    "pycharm": {
     "name": "#%%\n"
    }
   },
   "outputs": [],
   "source": [
    "def breadth_first_search(start, W):\n",
    "    \"\"\"\n",
    "    隣接行列Wで表現されるグラフについて、\n",
    "    start から到達できるnodeの一覧を返す\n",
    "    \"\"\"\n",
    "\n",
    "    # リストをキューにする\n",
    "    work_queue = deque([])\n",
    "    visited = set()\n",
    "    # 初期化\n",
    "    work_queue.append(start)\n",
    "    visited.add(start)\n",
    "    while work_queue:\n",
    "        here = work_queue.popleft()\n",
    "        for i, node in enumerate(W[here]):\n",
    "            if node == 0: continue\n",
    "            if i not in visited:\n",
    "                work_queue.append(i)\n",
    "                visited.add(i)\n",
    "    return visited"
   ]
  },
  {
   "cell_type": "code",
   "execution_count": 110,
   "metadata": {
    "pycharm": {
     "name": "#%%\n"
    }
   },
   "outputs": [
    {
     "data": {
      "text/plain": [
       "{1, 9}"
      ]
     },
     "execution_count": 110,
     "metadata": {},
     "output_type": "execute_result"
    }
   ],
   "source": [
    "breadth_first_search(1, my_graph)"
   ]
  },
  {
   "cell_type": "code",
   "execution_count": 111,
   "metadata": {
    "pycharm": {
     "name": "#%%\n"
    }
   },
   "outputs": [
    {
     "data": {
      "text/plain": [
       "{0, 2, 3, 4, 5, 6, 7, 8, 10, 11, 12, 13, 14, 15}"
      ]
     },
     "execution_count": 111,
     "metadata": {},
     "output_type": "execute_result"
    }
   ],
   "source": [
    "breadth_first_search(10, my_graph)"
   ]
  },
  {
   "cell_type": "markdown",
   "metadata": {
    "pycharm": {
     "name": "#%% md\n"
    }
   },
   "source": [
    "#### 深さ優先探索とスタック\n",
    "基本的には同じアルゴリズムであるが、調べるべき頂点をキューではなく、**スタック**のデータ構造に保存する。\n",
    "スタックの動作は、最後に入ったデータが次に処理される対象になる**LIFO**(Last-IN,First-Out)。\n",
    "\n",
    "Pythonのリストにappendメソッドでデータを追加、popメソッドで末尾から取り出されるため、リストをそのままスタックとして利用できる。\n",
    "\n",
    "\n",
    "\n"
   ]
  },
  {
   "cell_type": "code",
   "execution_count": 112,
   "metadata": {
    "pycharm": {
     "name": "#%%\n"
    }
   },
   "outputs": [],
   "source": [
    "def depth_first_search(start, W):\n",
    "    work_stack = []\n",
    "    visited = set()\n",
    "    work_stack.append(start)\n",
    "    visited.add(start)\n",
    "    while work_stack:\n",
    "        here = work_stack.pop()\n",
    "        for i, node in enumerate(W[here]):\n",
    "            if node == 0: continue\n",
    "            if i not in visited:\n",
    "                work_stack.append(i)\n",
    "                visited.add(i)\n",
    "    return visited"
   ]
  },
  {
   "cell_type": "code",
   "execution_count": 113,
   "metadata": {
    "pycharm": {
     "name": "#%%\n"
    }
   },
   "outputs": [
    {
     "data": {
      "text/plain": [
       "{0, 2, 3, 4, 5, 6, 7, 8, 10, 11, 12, 13, 14, 15}"
      ]
     },
     "execution_count": 113,
     "metadata": {},
     "output_type": "execute_result"
    }
   ],
   "source": [
    "depth_first_search(10, my_graph)"
   ]
  },
  {
   "cell_type": "markdown",
   "metadata": {
    "pycharm": {
     "name": "#%% md\n"
    }
   },
   "source": [
    "## 最短距離を求める\n",
    "\n",
    "### ダイクストラ法\n",
    "\n",
    "辺の重みが負でない場合、**ダイクストラ法**(Dijkstra's algorithm)と言う方法で最短距離を求めることができる。\n",
    "\n",
    "ダイクストラ法は、ある頂点sから到達できる他のすべての頂点への最短距離を計算する。\n",
    "まず、sを除く残りすべての頂点への仮の最短距離を無限大に初期化する。\n",
    "s自身への距離は0。\n",
    "緩和はsから順番に行い、アルゴリズムが頂点vに達した自転で、その頂点に割り当てられていた仮の最短距離が、sからvの正式な最短距離となる。\n",
    "\n",
    "ダイクストラアルゴリズムのポイントは、次に操作する頂点を、仮の最短距離の小さい物から優先して決めていく。\n",
    "この保存にヒープデータ構造を用いる。\n",
    "\n"
   ]
  },
  {
   "cell_type": "code",
   "execution_count": 114,
   "metadata": {
    "pycharm": {
     "name": "#%%\n"
    }
   },
   "outputs": [],
   "source": [
    "import math\n",
    "import heapq\n",
    "\n",
    "def dijkstra(start, W):\n",
    "    \"\"\"スタートの頂点と隣接行列を受け取り、到達できるすべての頂点への最短距離を返す\"\"\"\n",
    "    # 仮の最短処理を無限大に設定\n",
    "    distance_list = [math.inf] * len(W)\n",
    "    distance_list[start] = 0\n",
    "    # 最短距離が確定した頂点\n",
    "    done_list = []\n",
    "    # 次に処理する頂点を決めるためのヒープ\n",
    "    wait_heap = []\n",
    "    for i, d in enumerate(distance_list):\n",
    "        # (スタートからの距離、頂点)というタプルを作る\n",
    "        heapq.heappush(wait_heap, (d, i))\n",
    "    while wait_heap:\n",
    "        p = heapq.heappop(wait_heap)\n",
    "        i = p[1]\n",
    "        if i in done_list:\n",
    "            continue\n",
    "        done_list.append(i)\n",
    "        for j, x in enumerate(W[i]):\n",
    "            if x == 1 and j not in done_list:\n",
    "                d = min(distance_list[j], distance_list[i]+x)\n",
    "                distance_list[j] = d\n",
    "                heapq.heappush(wait_heap, (d, j))\n",
    "    return distance_list"
   ]
  },
  {
   "cell_type": "code",
   "execution_count": 115,
   "metadata": {
    "pycharm": {
     "name": "#%%\n"
    }
   },
   "outputs": [
    {
     "data": {
      "text/plain": [
       "[2, inf, 3, 5, 3, 4, 2, 2, 1, inf, 0, 3, 4, 3, 4, 5]"
      ]
     },
     "execution_count": 115,
     "metadata": {},
     "output_type": "execute_result"
    }
   ],
   "source": [
    "dijkstra(10, my_graph)"
   ]
  },
  {
   "cell_type": "markdown",
   "metadata": {
    "pycharm": {
     "name": "#%% md\n"
    }
   },
   "source": [
    "### ダイクストラ法の計算量は？\n",
    "頂点数:n\n",
    "辺の数:m\n",
    "1回のヒープの操作にかかる計算量は$\\mathcal{O}(\\log n)$\n",
    "全体の見積もりは$\\mathcal{O}((n+m) \\log n $となる\n",
    "これはかなり幅のある見積もりで、辺の数と頂点の数が同じくらいなら$\\mathcal{O}(n \\log n)$となり、もっとも密なグラフを考えると$\\mathcal{O}(n^2 \\log n)$となる\n",
    "\n"
   ]
  },
  {
   "cell_type": "markdown",
   "metadata": {
    "pycharm": {
     "name": "#%% md\n"
    }
   },
   "source": [
    "### すべての頂点間の最短距離\n",
    "すべての頂点からの最短距離が欲しい時は？\n",
    "\n",
    "-> すべての頂点からダイクストラ法を実行する\n",
    "しかし、計算量は、$\\mathcal{O}(n(n+m) \\log n)$となる。\n",
    "グラフが密である場合は$\\mathcal{O}(n^3 \\log n)$になる。\n",
    "\n",
    "**Floyd-Warshall法**のアルゴリズムでは、$O(n^3)$で、すべての頂点間の最短距離を計算できる。\n",
    "辺の数には依存しない。\n",
    "\n",
    "つまり、辺の密度が低い時は、拡張点からダイクストラ法で、密度が高い時はFloyd-Warshall法のアルゴリズムがよい。\n",
    "\n",
    "### 動的計画法\n",
    "全体が最適化されていると、ある一部分だけに着目してもその部分が最適化されていると言う事例が多い。\n",
    "これを**最適性の原理**(principle of optimality)という。\n",
    "\n",
    "この見方を変えて、最適な全体は局所的に最適化された部分の集合でできていると考えることができる。\n",
    "この性質を利用してアルゴリズムを設計する方法が動的計画法となる。\n",
    "個別の最適解を求めていき、まとめると全体の最適解がえらえる。\n",
    "\n",
    "### Folyd-Warshell法\n",
    "\n",
    "$n^2$個のすべての頂点ペアについて初期状態を設定する。\n",
    "ある頂点ペアが隣接している場合、2点間は最短距離になる。\n",
    "隣接していなければ、点間を無限大に設定。\n",
    "\n",
    "この状態で、ある1つの頂点xに着目し、隣接していない頂点ペアv,uが、xを介してつながればそれは最短距離となる。\n",
    "この調子で考慮する頂点を2つ3つと増やしていく。\n",
    "数学的帰納法を考えるときと同じ要領で、途中は気にせずk-1番目まできたとする。\n",
    "$d^{k-1}(u,v)$を$k-1$番目までの頂点だけを考慮にいれているときの$u$と$v$の最短距離だとする。\n",
    "k番目の頂点を考慮したとき、$d^k(u,v)$は、次の式で求めることができる。\n",
    "\n",
    "$\n",
    "d^k(u,v) = min\\{d^{k-1}(u,v), d^{k-1}(u,k) + d^{k-1}(k,v)\\}\n",
    "$\n",
    "\n"
   ]
  },
  {
   "cell_type": "code",
   "execution_count": 116,
   "metadata": {
    "pycharm": {
     "name": "#%%\n"
    }
   },
   "outputs": [],
   "source": [
    "def all_pairs_shortest_paths(W):\n",
    "    # 頂点の数\n",
    "    n = len(W)\n",
    "    # 結果を格納する行列を用意する\n",
    "    res = [[0] * n for _ in range(n)]\n",
    "    for i in range(n):\n",
    "        for j in range(i, n):\n",
    "            if i == j:\n",
    "                val = 0\n",
    "            elif W[i][j]:\n",
    "                val = W[i][j]\n",
    "            else:\n",
    "                val = math.inf\n",
    "            res[i][j] = res[j][i] = val\n",
    "    # 動的計画法ですべての頂点間の最短距離を求める\n",
    "    for k in range(n):\n",
    "        for u in range(n):\n",
    "            for v in range(n):\n",
    "                res[u][v] = min(res[u][v], res[u][k] + res[k][v])\n",
    "    return res\n"
   ]
  },
  {
   "cell_type": "code",
   "execution_count": 117,
   "metadata": {
    "pycharm": {
     "name": "#%%\n"
    }
   },
   "outputs": [
    {
     "data": {
      "text/plain": [
       "[[0, inf, 1, 4, 1, 2, 2, 2, 1, inf, 2, 3, 3, 2, 3, 4],\n",
       " [inf, 0, inf, inf, inf, inf, inf, inf, inf, 1, inf, inf, inf, inf, inf, inf],\n",
       " [1, inf, 0, 3, 2, 1, 2, 1, 2, inf, 3, 2, 2, 1, 2, 3],\n",
       " [4, inf, 3, 0, 5, 3, 3, 4, 4, inf, 5, 4, 1, 2, 3, 1],\n",
       " [1, inf, 2, 5, 0, 3, 3, 3, 2, inf, 3, 4, 4, 3, 4, 5],\n",
       " [2, inf, 1, 3, 3, 0, 2, 2, 3, inf, 4, 1, 2, 1, 2, 3],\n",
       " [2, inf, 2, 3, 3, 2, 0, 2, 1, inf, 2, 1, 2, 1, 2, 3],\n",
       " [2, inf, 1, 4, 3, 2, 2, 0, 1, inf, 2, 1, 3, 2, 3, 4],\n",
       " [1, inf, 2, 4, 2, 3, 1, 1, 0, inf, 1, 2, 3, 2, 3, 4],\n",
       " [inf, 1, inf, inf, inf, inf, inf, inf, inf, 0, inf, inf, inf, inf, inf, inf],\n",
       " [2, inf, 3, 5, 3, 4, 2, 2, 1, inf, 0, 3, 4, 3, 4, 5],\n",
       " [3, inf, 2, 4, 4, 1, 1, 1, 2, inf, 3, 0, 3, 2, 3, 4],\n",
       " [3, inf, 2, 1, 4, 2, 2, 3, 3, inf, 4, 3, 0, 1, 2, 1],\n",
       " [2, inf, 1, 2, 3, 1, 1, 2, 2, inf, 3, 2, 1, 0, 1, 2],\n",
       " [3, inf, 2, 3, 4, 2, 2, 3, 3, inf, 4, 3, 2, 1, 0, 3],\n",
       " [4, inf, 3, 1, 5, 3, 3, 4, 4, inf, 5, 4, 1, 2, 3, 0]]"
      ]
     },
     "execution_count": 117,
     "metadata": {},
     "output_type": "execute_result"
    }
   ],
   "source": [
    "all_pairs_shortest_paths(my_graph)\n"
   ]
  },
  {
   "cell_type": "code",
   "execution_count": null,
   "metadata": {
    "pycharm": {
     "name": "#%%\n"
    }
   },
   "outputs": [],
   "source": [
    "\n",
    "\n",
    "\n"
   ]
  }
 ],
 "metadata": {
  "kernelspec": {
   "display_name": "Python 3",
   "language": "python",
   "name": "python3"
  },
  "language_info": {
   "codemirror_mode": {
    "name": "ipython",
    "version": 3
   },
   "file_extension": ".py",
   "mimetype": "text/x-python",
   "name": "python",
   "nbconvert_exporter": "python",
   "pygments_lexer": "ipython3",
   "version": "3.9.0"
  }
 },
 "nbformat": 4,
 "nbformat_minor": 1
}
